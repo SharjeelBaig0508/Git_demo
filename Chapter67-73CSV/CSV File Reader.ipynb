{
 "cells": [
  {
   "cell_type": "code",
   "execution_count": 13,
   "metadata": {},
   "outputs": [
    {
     "name": "stdout",
     "output_type": "stream",
     "text": [
      "\n",
      "Each Line : ['Year', 'Event', 'Winner']\n",
      "\n",
      "Changing Array : ['Year', 'Event', 'Winner']\n",
      "\n",
      "Each Line : ['1995', 'Best-Kept Lawn', 'None']\n",
      "\n",
      "Changing Array : ['Year', 'Event', 'Winner', '1995', 'Best-Kept Lawn', 'None']\n",
      "\n",
      "Each Line : ['1999', 'Gobstones', 'Welch National']\n",
      "\n",
      "Changing Array : ['Year', 'Event', 'Winner', '1995', 'Best-Kept Lawn', 'None', '1999', 'Gobstones', 'Welch National']\n",
      "\n",
      "Each Line : ['2006', 'World Cup', 'Burkina Faso']\n",
      "\n",
      "Changing Array : ['Year', 'Event', 'Winner', '1995', 'Best-Kept Lawn', 'None', '1999', 'Gobstones', 'Welch National', '2006', 'World Cup', 'Burkina Faso']\n",
      "\n",
      "Potter Competetion Array : ['Year', 'Event', 'Winner', '1995', 'Best-Kept Lawn', 'None', '1999', 'Gobstones', 'Welch National', '2006', 'World Cup', 'Burkina Faso']\n"
     ]
    }
   ],
   "source": [
    "import csv\n",
    "f = open(\"competetions.csv\")\n",
    "contents_of_file = csv.reader(f)\n",
    "potter_competetions = []\n",
    "for each_line in contents_of_file:\n",
    "    print()\n",
    "    print(\"Each Line :\", each_line)\n",
    "    print()\n",
    "    potter_competetions += each_line\n",
    "    print(\"Changing Array :\", potter_competetions)\n",
    "print()\n",
    "print(\"Potter Competetion Array :\", potter_competetions)"
   ]
  },
  {
   "cell_type": "code",
   "execution_count": 5,
   "metadata": {},
   "outputs": [
    {
     "name": "stdout",
     "output_type": "stream",
     "text": [
      "Best-Kept Lawn\n"
     ]
    }
   ],
   "source": [
    "print(potter_competetions[4])"
   ]
  },
  {
   "cell_type": "code",
   "execution_count": 7,
   "metadata": {},
   "outputs": [
    {
     "name": "stdout",
     "output_type": "stream",
     "text": [
      "4\n"
     ]
    }
   ],
   "source": [
    "index_number_of_target = potter_competetions.index('Best-Kept Lawn')\n",
    "print(index_number_of_target)"
   ]
  },
  {
   "cell_type": "code",
   "execution_count": 10,
   "metadata": {},
   "outputs": [
    {
     "name": "stdout",
     "output_type": "stream",
     "text": [
      "Enter the name of a competition : World Cup\n",
      "The event was held in 2006\n",
      "The winner was Burkina Faso\n"
     ]
    }
   ],
   "source": [
    "target = input(\"Enter the name of a competition : \")\n",
    "index_number_of_target = potter_competetions.index(target)\n",
    "index_number_of_winner = index_number_of_target + 1\n",
    "index_number_of_year = index_number_of_target - 1\n",
    "the_year = potter_competetions[index_number_of_year]\n",
    "the_winner = potter_competetions[index_number_of_winner]\n",
    "print(\"The event was held in\", the_year)\n",
    "print(\"The winner was\", the_winner)"
   ]
  },
  {
   "cell_type": "code",
   "execution_count": 12,
   "metadata": {},
   "outputs": [],
   "source": [
    "f.close()"
   ]
  },
  {
   "cell_type": "code",
   "execution_count": null,
   "metadata": {},
   "outputs": [],
   "source": []
  }
 ],
 "metadata": {
  "kernelspec": {
   "display_name": "Python 3",
   "language": "python",
   "name": "python3"
  },
  "language_info": {
   "codemirror_mode": {
    "name": "ipython",
    "version": 3
   },
   "file_extension": ".py",
   "mimetype": "text/x-python",
   "name": "python",
   "nbconvert_exporter": "python",
   "pygments_lexer": "ipython3",
   "version": "3.7.3"
  }
 },
 "nbformat": 4,
 "nbformat_minor": 2
}
