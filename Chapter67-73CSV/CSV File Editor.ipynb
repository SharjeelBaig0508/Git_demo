{
 "cells": [
  {
   "cell_type": "code",
   "execution_count": 19,
   "metadata": {},
   "outputs": [],
   "source": [
    "import csv\n",
    "f = open(\"whatever.csv\", \"w\", newline = \"\")\n",
    "data_handler = csv.writer(f, delimiter=\",\", quoting = csv.QUOTE_NONE, escapechar = \"\\\\\")\n",
    "data_handler.writerow([\"Year\", \"Event\", \"Winner\"])\n",
    "data_handler.writerow([\"1995\", \"Best-Kept, Lawn\", \"None\"])\n",
    "data_handler.writerow([\"1999\", \"Gobstones\", \"Welch National\"])\n",
    "f.close()"
   ]
  },
  {
   "cell_type": "code",
   "execution_count": 22,
   "metadata": {},
   "outputs": [
    {
     "name": "stdout",
     "output_type": "stream",
     "text": [
      "\n",
      "['Year', 'Event', 'Winner']\n",
      "\n",
      "Year\n",
      "Event\n",
      "Winner\n",
      "\n",
      "['1995', 'Best-Kept, Lawn', 'None']\n",
      "\n",
      "1995\n",
      "Best-Kept, Lawn\n",
      "None\n",
      "\n",
      "['1999', 'Gobstones', 'Welch National']\n",
      "\n",
      "1999\n",
      "Gobstones\n",
      "Welch National\n",
      "\n",
      "['2006', 'World Cup', 'Burkina Faso']\n",
      "\n",
      "2006\n",
      "World Cup\n",
      "Burkina Faso\n",
      "\n",
      "['2011', 'Butter Cup', 'France']\n",
      "\n",
      "2011\n",
      "Butter Cup\n",
      "France\n",
      "\n",
      "['2012', 'Coffee Cup', 'Brazil']\n",
      "\n",
      "2012\n",
      "Coffee Cup\n",
      "Brazil\n"
     ]
    }
   ],
   "source": [
    "import csv\n",
    "f = open(\"whatever.csv\", \"r\")\n",
    "file_handler = csv.reader(f, escapechar = \"\\\\\")\n",
    "for row in file_handler:\n",
    "    print()\n",
    "    print(row)\n",
    "    print()\n",
    "    for cell in row:\n",
    "        print(cell)\n",
    "f.close()"
   ]
  },
  {
   "cell_type": "code",
   "execution_count": 21,
   "metadata": {},
   "outputs": [],
   "source": [
    "f = open(\"whatever.csv\", \"a\", newline=\"\")\n",
    "data_handler = csv.writer(f, delimiter=\",\")\n",
    "data_handler.writerow([\"2006\", \"World Cup\", \"Burkina Faso\"])\n",
    "data_handler.writerow([\"2011\", \"Butter Cup\", \"France\"])\n",
    "data_handler.writerow([\"2012\", \"Coffee Cup\", \"Brazil\"])\n",
    "f.close()"
   ]
  },
  {
   "cell_type": "code",
   "execution_count": null,
   "metadata": {},
   "outputs": [],
   "source": []
  }
 ],
 "metadata": {
  "kernelspec": {
   "display_name": "Python 3",
   "language": "python",
   "name": "python3"
  },
  "language_info": {
   "codemirror_mode": {
    "name": "ipython",
    "version": 3
   },
   "file_extension": ".py",
   "mimetype": "text/x-python",
   "name": "python",
   "nbconvert_exporter": "python",
   "pygments_lexer": "ipython3",
   "version": "3.7.3"
  }
 },
 "nbformat": 4,
 "nbformat_minor": 2
}
